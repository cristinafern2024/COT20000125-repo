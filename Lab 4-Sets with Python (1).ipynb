{
 "cells": [
  {
   "cell_type": "markdown",
   "id": "207a3194-6f3e-45b8-8a7b-307e35c6026d",
   "metadata": {},
   "source": [
    "# Lab 4 - Sets with Python\n",
    "### COT2000 - Spring 2025"
   ]
  },
  {
   "cell_type": "markdown",
   "id": "b4da7443-64e6-4938-aafe-27bc28e0dee6",
   "metadata": {},
   "source": [
    "### Introduction to Sets in Python\n",
    "\n",
    "In Python, a set is an unordered collection of unique elements. Sets are defined using curly braces `{}` and can be used to perform various operations like union, intersection, and difference. Sets are useful for membership testing and eliminating duplicate entries. Here is an example of how to create and display a set:\n"
   ]
  },
  {
   "cell_type": "code",
   "execution_count": 30,
   "id": "977bcc1d-deb9-4c4d-acaa-76a2b20e43d6",
   "metadata": {},
   "outputs": [
    {
     "name": "stdout",
     "output_type": "stream",
     "text": [
      "{1, 2, 3, 4, 5}\n"
     ]
    }
   ],
   "source": [
    "my_set = {333, 22, 1}   # This creates a set with elements 1, 2, 3, 4, 5\n",
    "print(my_set)              # Print the set to see its elements\n",
    "\n",
    "# Practice: Try adding more elements to the set and print it again"
   ]
  },
  {
   "cell_type": "code",
   "execution_count": 19,
   "id": "8b6c202c-d106-4f5f-a92d-ac3fc75a6986",
   "metadata": {},
   "outputs": [
    {
     "name": "stdout",
     "output_type": "stream",
     "text": [
      "{1, 2, 3, 4, 5, 6, 7, 8, 9}\n"
     ]
    }
   ],
   "source": [
    "#practice\n",
    "my_set2 = {1,2,3,4,5,6,7,8,9}\n",
    "print(my_set2)"
   ]
  },
  {
   "cell_type": "code",
   "execution_count": 7,
   "id": "ca8a3af7-d263-4a0a-832e-08ee5f55714a",
   "metadata": {},
   "outputs": [
    {
     "name": "stdout",
     "output_type": "stream",
     "text": [
      "{1, 2, 3, 4, 5, 6, 7, 8}\n",
      "[1, 2, 3, 4, 5, 3, 6, 7, 84, 5, 6]\n",
      "1\n"
     ]
    }
   ],
   "source": [
    "A = {1,2,3,4,5,6,4,5,7,8}\n",
    "print(A)\n",
    "#print elements skips over epeat elements\n",
    "B = [1,2,3,4,5,3,6,7,84,5,6,]\n",
    "print (B)\n",
    "#first is a set second one is a list. A list can store duplicates a set can not.\n",
    "print(B[0])\n",
    "# this prints the first element of the list\n",
    "#A.add(#) adds element to set\n",
    "#a.remove(#) removes an elemnt from a set"
   ]
  },
  {
   "cell_type": "markdown",
   "id": "f9308a5d-46ee-470c-90fc-b37cab49d974",
   "metadata": {},
   "source": [
    "### Membership Testing\n",
    "\n",
    "Sets in Python are particularly useful for testing membership, i.e., checking whether an element is in a set. This operation is very efficient. Here is an example of how to test if specific elements are present in a set:\n"
   ]
  },
  {
   "cell_type": "code",
   "execution_count": 56,
   "id": "5b487025-40a8-43cb-9269-3ef9fc9d0d71",
   "metadata": {},
   "outputs": [
    {
     "name": "stdout",
     "output_type": "stream",
     "text": [
      "True\n",
      "False\n"
     ]
    }
   ],
   "source": [
    "print(4 in my_set)  # Check if 4 is in the set (Should return True)\n",
    "print(8 in my_set)  # Check if 8 is in the set (Should return False)\n",
    "\n",
    "# Practice: Try checking for other elements"
   ]
  },
  {
   "cell_type": "code",
   "execution_count": 21,
   "id": "f3d3dff7-e31a-459e-9e1c-429c38568469",
   "metadata": {},
   "outputs": [
    {
     "name": "stdout",
     "output_type": "stream",
     "text": [
      "True\n",
      "True\n"
     ]
    }
   ],
   "source": [
    "#practice\n",
    "print( 6 in my_set2)\n",
    "print(2 in my_set2)\n"
   ]
  },
  {
   "cell_type": "markdown",
   "id": "9bf2910a-6fe6-4cf5-ae4f-32a76107f597",
   "metadata": {},
   "source": [
    "### Subset and Superset Operations\n",
    "\n",
    "A set `A` is a subset of set `B` if all elements of `A` are also elements of `B`. Similarly, `B` is a superset of `A`. Python provides methods to check these relationships. Here is how you can check if one set is a subset or a superset of another:\n"
   ]
  },
  {
   "cell_type": "code",
   "execution_count": 58,
   "id": "102c23c0-5e09-4b2d-bf58-eaf7a105eaea",
   "metadata": {},
   "outputs": [
    {
     "name": "stdout",
     "output_type": "stream",
     "text": [
      "True\n",
      "True\n"
     ]
    }
   ],
   "source": [
    "subset = {1, 2}                      # Define a subset\n",
    "print(subset.issubset(my_set))       # Check if subset is a subset of my_set (Should return True)\n",
    "print(my_set.issuperset(subset))     # Check if my_set is a superset of subset (Should return True)\n",
    "\n",
    "# Practice: Try defining other subsets and check the relationships\n",
    "# Example: subset2 = {2, 3}\n",
    "# Then check subset2.issubset(my_set) and my_set.issuperset(subset2)"
   ]
  },
  {
   "cell_type": "code",
   "execution_count": 24,
   "id": "e3493c65-da43-42b1-91d6-56bd4aba6ed3",
   "metadata": {},
   "outputs": [
    {
     "name": "stdout",
     "output_type": "stream",
     "text": [
      "True\n",
      "True\n"
     ]
    }
   ],
   "source": [
    "#practice\n",
    "subset2 = {5,8}\n",
    "print (subset2.issubset(my_set2))\n",
    "print(my_set2.issuperset(subset2))\n"
   ]
  },
  {
   "cell_type": "markdown",
   "id": "33dbb0a2-7186-4dcb-8898-ad6f2ddadfc4",
   "metadata": {},
   "source": [
    "### Set Operations (Union, Intersection, Difference)\n",
    "\n",
    "Python sets support various mathematical operations such as union, intersection, and difference. The union of two sets is a set containing all unique elements from both sets. The intersection is a set containing only elements that are in both sets. The difference is a set containing elements that are in one set but not in the other. Here is how you can perform these operations:\n"
   ]
  },
  {
   "cell_type": "code",
   "execution_count": 61,
   "id": "2449278b-300c-4b6b-8bd1-bbacde778c95",
   "metadata": {
    "scrolled": true
   },
   "outputs": [
    {
     "name": "stdout",
     "output_type": "stream",
     "text": [
      "Union: {1, 2, 3, 4, 5, 6, 7, 8}\n",
      "Intersection: {4, 5}\n",
      "Difference: {1, 2, 3}\n"
     ]
    }
   ],
   "source": [
    "my_set = {1, 2, 3, 4, 5}\n",
    "another_set = {4, 5, 6, 7, 8}                        # Define another set\n",
    "union_set = my_set.union(another_set)                # Perform union operation\n",
    "intersection_set = my_set.intersection(another_set)  # Perform intersection operation\n",
    "difference_set = my_set.difference(another_set)      # Perform difference operation\n",
    "#difference_set = another_set-my_set\n",
    "print(\"Union:\", union_set)                           # Print the union of my_set and another_set\n",
    "print(\"Intersection:\", intersection_set)             # Print the intersection of my_set and another_set\n",
    "print(\"Difference:\", difference_set)                 # Print the difference of my_set and another_set\n",
    "\n",
    "# Practice: Try creating your own sets and perform these operations\n",
    "# Example: set1 = {1, 2, 3}\n",
    "# Example: set2 = {3, 4, 5}\n",
    "# Then find the union, intersection, and difference of set1 and set2\n"
   ]
  },
  {
   "cell_type": "code",
   "execution_count": 26,
   "id": "d64e4a0c-532a-43eb-9a82-4f46b157700e",
   "metadata": {},
   "outputs": [
    {
     "name": "stdout",
     "output_type": "stream",
     "text": [
      "Union:  {1, 2, 3, 4, 5, 6, 7, 8, 9}\n",
      "Intersection:  {3, 4, 5, 7, 8, 9}\n",
      "Difference:  {1, 2, 6}\n"
     ]
    }
   ],
   "source": [
    "#practice\n",
    "my_set2 = {1,2,3,4,5,6,7,8,9}\n",
    "another_set2= {4,5,7,3,8,9,4}\n",
    "union_set = my_set2.union(another_set2)\n",
    "intersection2 = my_set2.intersection(another_set2)\n",
    "difference2 = my_set2.difference(another_set2)\n",
    "print(\"Union: \", union_set)\n",
    "print(\"Intersection: \", intersection2)\n",
    "print(\"Difference: \", difference2)"
   ]
  },
  {
   "cell_type": "code",
   "execution_count": 9,
   "id": "bf7396c3-b5c3-4541-a85f-4c5e8bf5a53f",
   "metadata": {},
   "outputs": [
    {
     "name": "stdout",
     "output_type": "stream",
     "text": [
      "{1, 2, 3, 6, 7, 8}\n"
     ]
    }
   ],
   "source": [
    "A = {1,2,3,4,5}\n",
    "B ={4,5,6,7,8}\n",
    "\n",
    "print(A^B)\n",
    "#symmetric difference= will output only those  elemnts which are unique. Not common in both the sets."
   ]
  },
  {
   "cell_type": "markdown",
   "id": "7d44dcb4-588a-4a21-acd1-98559f2da152",
   "metadata": {},
   "source": [
    "### Ordered Pairs and Cartesian Products\n",
    "\n",
    "An ordered pair is a pair of elements with the order of the elements being significant. The Cartesian product of two sets is the set of all possible ordered pairs where the first element is from the first set and the second element is from the second set. Here is an example:\n"
   ]
  },
  {
   "cell_type": "code",
   "execution_count": 65,
   "id": "7ea7075f-4296-42ac-9977-62b0e273bae9",
   "metadata": {},
   "outputs": [
    {
     "name": "stdout",
     "output_type": "stream",
     "text": [
      "Cartesian Product: A x B = {(2, 3), (2, 4), (1, 3), (1, 4)}\n"
     ]
    }
   ],
   "source": [
    "A = {1, 2}  # Define the first set\n",
    "B = {3, 4}  # Define the second set\n",
    "cartesian_product = {(a, b) for a in A for b in B}  # Compute the Cartesian product #extracting all possible pairs from both sets\n",
    "print(\"Cartesian Product: A x B =\", cartesian_product)  # Print the Cartesian product\n",
    "\n",
    "# Practice: Try defining different sets and compute their Cartesian product\n",
    "# Example: A = {1, 2, 3}\n",
    "# Example: B = {4, 5}\n",
    "# Then find the Cartesian product of A and B"
   ]
  },
  {
   "cell_type": "code",
   "execution_count": 28,
   "id": "794518c2-f8b1-4743-a27c-453d870e70df",
   "metadata": {},
   "outputs": [
    {
     "name": "stdout",
     "output_type": "stream",
     "text": [
      "Cartesian Product: C x F = {(2, 1), (6, 5), (4, 3), (6, 1), (2, 3), (4, 5), (6, 3), (2, 5), (4, 1)}\n"
     ]
    }
   ],
   "source": [
    "#practice\n",
    "C = {2,4,6}\n",
    "F = {1,3,5}\n",
    "cartesian_product = {(c,f) for c in C for f in F}\n",
    "print(\"Cartesian Product: C x F =\", cartesian_product)\n"
   ]
  },
  {
   "cell_type": "markdown",
   "id": "eba3addd-7148-4a1c-ab18-14c7a8e1d3bf",
   "metadata": {},
   "source": [
    "### Cartesian Plane\n",
    "\n",
    "The Cartesian plane is a two-dimensional plane defined by an x-axis and a y-axis. Each point on the plane can be described by an ordered pair `(x, y)`. Here is an example of how to plot points from the Cartesian product on a Cartesian plane using matplotlib:\n"
   ]
  },
  {
   "cell_type": "code",
   "execution_count": 67,
   "id": "d88345fd-afce-4591-83fb-5eed00cb569a",
   "metadata": {},
   "outputs": [
    {
     "data": {
      "image/png": "[encoded data removed]",
      "text/plain": [
       "<Figure size 640x480 with 1 Axes>"
      ]
     },
     "metadata": {},
     "output_type": "display_data"
    }
   ],
   "source": [
    "import matplotlib.pyplot as plt\n",
    "\n",
    "# Convert the Cartesian product to a list of points\n",
    "points = list(cartesian_product)\n",
    "x_coords = [x for x, y in points]  # Get x-coordinates\n",
    "y_coords = [y for x, y in points]  # Get y-coordinates\n",
    "\n",
    "# Plot the points on the Cartesian plane\n",
    "plt.scatter(x_coords, y_coords)  # Plot the points\n",
    "plt.title(\"Cartesian Plane\")  # Set the title of the plot\n",
    "plt.xlabel(\"X-axis\")  # Set the label for the x-axis\n",
    "plt.ylabel(\"Y-axis\")  # Set the label for the y-axis\n",
    "plt.grid(True)  # Enable grid\n",
    "plt.show()  # Display the plot\n",
    "\n",
    "# Practice: Try plotting the Cartesian product of different sets\n",
    "# Example: Use sets A and B from the previous example\n"
   ]
  },
  {
   "cell_type": "code",
   "execution_count": 30,
   "id": "bb248acc-8236-42cd-b06c-2bc24b0da958",
   "metadata": {},
   "outputs": [
    {
     "data": {
      "image/png": "[encoded data removed]",
      "text/plain": [
       "<Figure size 640x480 with 1 Axes>"
      ]
     },
     "metadata": {},
     "output_type": "display_data"
    }
   ],
   "source": [
    "#practice\n",
    "import matplotlib.pyplot as plt\n",
    "points = list(cartesian_product)\n",
    "x_coord = [x for x, y in points]\n",
    "y_coord = [y for x, y in points]\n",
    "\n",
    "plt.scatter(x_coord,y_coord)\n",
    "plt.title(\"Cartesian Plane Practice\")\n",
    "plt.xlabel(\"X-axis\")\n",
    "plt.ylabel(\"Y-axis\")\n",
    "plt.grid(True)\n",
    "plt.show()\n"
   ]
  },
  {
   "cell_type": "markdown",
   "id": "32121114-08d7-4060-b837-baff62b3732c",
   "metadata": {},
   "source": [
    "### Relations\n",
    "\n",
    "A relation between two sets is a subset of the Cartesian product of those sets. It pairs elements from the first set with elements from the second set. Here is an example of a relation between two sets:\n"
   ]
  },
  {
   "cell_type": "code",
   "execution_count": 15,
   "id": "4371e044-8ea1-43d4-948a-b9331b43df6b",
   "metadata": {},
   "outputs": [
    {
     "name": "stdout",
     "output_type": "stream",
     "text": [
      "Relation R: {(2, 4), (1, 3)}\n"
     ]
    }
   ],
   "source": [
    "A = {1, 2}  # Define the first set\n",
    "B = {3, 4}  # Define the second set\n",
    "\n",
    "# Define a relation as a subset of the Cartesian product\n",
    "R = {(1, 3), (2, 4)}\n",
    "\n",
    "\n",
    "print(\"Relation R:\", R)  # Print the relation\n",
    "\n",
    "# Practice: Try defining other relations and print them\n",
    "# Example: R2 = {(1, 4), (2, 3)}\n",
    "# Then print R2"
   ]
  },
  {
   "cell_type": "code",
   "execution_count": 32,
   "id": "60ce3598-a4fe-4bdf-ab44-af3ee8b53034",
   "metadata": {},
   "outputs": [
    {
     "name": "stdout",
     "output_type": "stream",
     "text": [
      "Relation R2:  {(13, 4), (3, 6)}\n"
     ]
    }
   ],
   "source": [
    "#practice\n",
    "B = {3,13}\n",
    "M = {6,4}\n",
    "\n",
    "R2 = {(3,6),(13,4)}\n",
    "print(\"Relation R2: \", R2)\n"
   ]
  },
  {
   "cell_type": "markdown",
   "id": "c812d4cc-06e0-4df8-8a76-98d71777b445",
   "metadata": {},
   "source": [
    "### Functions (Mathematical Definition)\n",
    "\n",
    "In mathematics, a function is a special type of relation where each element in the domain is associated with exactly one element in the codomain. Here is how you can define a function in Python and verify its properties:\n"
   ]
  },
  {
   "cell_type": "code",
   "execution_count": 71,
   "id": "f0cfa456-3c55-47fb-b09a-fd36062bb4b6",
   "metadata": {},
   "outputs": [
    {
     "name": "stdout",
     "output_type": "stream",
     "text": [
      "f is a function: True\n"
     ]
    }
   ],
   "source": [
    "def is_function(relation, domain):\n",
    "    # Check if every element in the domain has exactly one pair in the relation\n",
    "    domain_elements = [pair[0] for pair in relation]\n",
    "    return all(domain_elements.count(e) == 1 for e in domain)\n",
    "\n",
    "A = {1, 2}  # Define the domain\n",
    "B = {3, 4}  # Define the codomain\n",
    "\n",
    "# Define a function as a set of ordered pairs\n",
    "f = {(1, 3), (2, 4)}\n",
    "\n",
    "# Check if f is a function\n",
    "print(\"f is a function:\", is_function(f, A))\n",
    "\n",
    "# Practice: Try defining other functions and check their properties\n",
    "# Example: f2 = {(1, 3), (1, 4)}\n",
    "# Then check is_function(f2, A)\n"
   ]
  },
  {
   "cell_type": "code",
   "execution_count": 34,
   "id": "82c6bd70-c25c-428d-a1c3-829bb427a223",
   "metadata": {},
   "outputs": [
    {
     "ename": "NameError",
     "evalue": "name 'is_function' is not defined",
     "output_type": "error",
     "traceback": [
      "\u001b[1;31m---------------------------------------------------------------------------\u001b[0m",
      "\u001b[1;31mNameError\u001b[0m                                 Traceback (most recent call last)",
      "Cell \u001b[1;32mIn[34], line 9\u001b[0m\n\u001b[0;32m      6\u001b[0m M \u001b[38;5;241m=\u001b[39m {\u001b[38;5;241m6\u001b[39m,\u001b[38;5;241m4\u001b[39m} \u001b[38;5;66;03m#co-domain\u001b[39;00m\n\u001b[0;32m      8\u001b[0m f2 \u001b[38;5;241m=\u001b[39m {(\u001b[38;5;241m3\u001b[39m,\u001b[38;5;241m6\u001b[39m),(\u001b[38;5;241m7\u001b[39m,\u001b[38;5;241m4\u001b[39m)}\n\u001b[1;32m----> 9\u001b[0m \u001b[38;5;28mprint\u001b[39m(\u001b[38;5;124m\"\u001b[39m\u001b[38;5;124mf is a function: \u001b[39m\u001b[38;5;124m\"\u001b[39m, is_function(f2, B))\n",
      "\u001b[1;31mNameError\u001b[0m: name 'is_function' is not defined"
     ]
    }
   ],
   "source": [
    "#practice\n",
    "def is_fucntion(relation, domain):\n",
    "    domain_elements = [pair[0] for pair in reltion]\n",
    "    return all(domain_elements.count(e) == 1 for e in domain)\n",
    "B= {3,7} #domain\n",
    "M = {6,4} #co-domain\n",
    "\n",
    "f2 = {(3,6),(7,4)}\n",
    "print(\"f is a function: \", is_function(f2, B))\n"
   ]
  },
  {
   "cell_type": "code",
   "execution_count": null,
   "id": "c45db932-9917-4580-876f-a812f74875be",
   "metadata": {},
   "outputs": [],
   "source": []
  }
 ],
 "metadata": {
  "kernelspec": {
   "display_name": "Python [conda env:base] *",
   "language": "python",
   "name": "conda-base-py"
  },
  "language_info": {
   "codemirror_mode": {
    "name": "ipython",
    "version": 3
   },
   "file_extension": ".py",
   "mimetype": "text/x-python",
   "name": "python",
   "nbconvert_exporter": "python",
   "pygments_lexer": "ipython3",
   "version": "3.12.7"
  }
 },
 "nbformat": 4,
 "nbformat_minor": 5
}
